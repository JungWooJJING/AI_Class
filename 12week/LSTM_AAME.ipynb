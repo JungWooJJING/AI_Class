{
 "cells": [
  {
   "cell_type": "code",
   "execution_count": 2,
   "id": "3e277733",
   "metadata": {},
   "outputs": [],
   "source": [
    "import pandas as pd\n",
    "import numpy as np\n",
    "\n",
    "from sklearn.preprocessing import LabelEncoder\n",
    "from sklearn.metrics import precision_score, recall_score, f1_score, roc_auc_score, confusion_matrix, ConfusionMatrixDisplay\n",
    "\n",
    "import matplotlib.pyplot as plt\n",
    "import numpy as np\n",
    "from sklearn.preprocessing import StandardScaler\n",
    "from sklearn.model_selection import train_test_split"
   ]
  },
  {
   "cell_type": "code",
   "execution_count": 3,
   "id": "fa3fa84a",
   "metadata": {},
   "outputs": [],
   "source": [
    "data = pd.read_csv('./AAME.csv')"
   ]
  },
  {
   "cell_type": "code",
   "execution_count": 4,
   "id": "dcbcf2a6",
   "metadata": {},
   "outputs": [
    {
     "data": {
      "text/html": [
       "<div>\n",
       "<style scoped>\n",
       "    .dataframe tbody tr th:only-of-type {\n",
       "        vertical-align: middle;\n",
       "    }\n",
       "\n",
       "    .dataframe tbody tr th {\n",
       "        vertical-align: top;\n",
       "    }\n",
       "\n",
       "    .dataframe thead th {\n",
       "        text-align: right;\n",
       "    }\n",
       "</style>\n",
       "<table border=\"1\" class=\"dataframe\">\n",
       "  <thead>\n",
       "    <tr style=\"text-align: right;\">\n",
       "      <th></th>\n",
       "      <th>Date</th>\n",
       "      <th>Open</th>\n",
       "      <th>High</th>\n",
       "      <th>Low</th>\n",
       "      <th>Close</th>\n",
       "      <th>Adj Close</th>\n",
       "      <th>Volume</th>\n",
       "    </tr>\n",
       "  </thead>\n",
       "  <tbody>\n",
       "    <tr>\n",
       "      <th>0</th>\n",
       "      <td>1980-03-17</td>\n",
       "      <td>0.00</td>\n",
       "      <td>4.05</td>\n",
       "      <td>3.85</td>\n",
       "      <td>3.85</td>\n",
       "      <td>3.213167</td>\n",
       "      <td>15000</td>\n",
       "    </tr>\n",
       "    <tr>\n",
       "      <th>1</th>\n",
       "      <td>1980-03-18</td>\n",
       "      <td>0.00</td>\n",
       "      <td>4.00</td>\n",
       "      <td>3.80</td>\n",
       "      <td>3.80</td>\n",
       "      <td>3.171437</td>\n",
       "      <td>10200</td>\n",
       "    </tr>\n",
       "    <tr>\n",
       "      <th>2</th>\n",
       "      <td>1980-03-19</td>\n",
       "      <td>0.00</td>\n",
       "      <td>4.05</td>\n",
       "      <td>3.85</td>\n",
       "      <td>3.85</td>\n",
       "      <td>3.213167</td>\n",
       "      <td>33500</td>\n",
       "    </tr>\n",
       "    <tr>\n",
       "      <th>3</th>\n",
       "      <td>1980-03-20</td>\n",
       "      <td>0.00</td>\n",
       "      <td>4.00</td>\n",
       "      <td>3.80</td>\n",
       "      <td>3.80</td>\n",
       "      <td>3.171437</td>\n",
       "      <td>8700</td>\n",
       "    </tr>\n",
       "    <tr>\n",
       "      <th>4</th>\n",
       "      <td>1980-03-21</td>\n",
       "      <td>0.00</td>\n",
       "      <td>3.95</td>\n",
       "      <td>3.75</td>\n",
       "      <td>3.75</td>\n",
       "      <td>3.129709</td>\n",
       "      <td>12700</td>\n",
       "    </tr>\n",
       "    <tr>\n",
       "      <th>...</th>\n",
       "      <td>...</td>\n",
       "      <td>...</td>\n",
       "      <td>...</td>\n",
       "      <td>...</td>\n",
       "      <td>...</td>\n",
       "      <td>...</td>\n",
       "      <td>...</td>\n",
       "    </tr>\n",
       "    <tr>\n",
       "      <th>10093</th>\n",
       "      <td>2020-03-26</td>\n",
       "      <td>2.29</td>\n",
       "      <td>2.29</td>\n",
       "      <td>2.08</td>\n",
       "      <td>2.28</td>\n",
       "      <td>2.280000</td>\n",
       "      <td>1600</td>\n",
       "    </tr>\n",
       "    <tr>\n",
       "      <th>10094</th>\n",
       "      <td>2020-03-27</td>\n",
       "      <td>2.25</td>\n",
       "      <td>2.25</td>\n",
       "      <td>2.21</td>\n",
       "      <td>2.25</td>\n",
       "      <td>2.250000</td>\n",
       "      <td>500</td>\n",
       "    </tr>\n",
       "    <tr>\n",
       "      <th>10095</th>\n",
       "      <td>2020-03-30</td>\n",
       "      <td>2.25</td>\n",
       "      <td>2.25</td>\n",
       "      <td>2.13</td>\n",
       "      <td>2.13</td>\n",
       "      <td>2.130000</td>\n",
       "      <td>400</td>\n",
       "    </tr>\n",
       "    <tr>\n",
       "      <th>10096</th>\n",
       "      <td>2020-03-31</td>\n",
       "      <td>2.11</td>\n",
       "      <td>2.11</td>\n",
       "      <td>2.11</td>\n",
       "      <td>2.11</td>\n",
       "      <td>2.110000</td>\n",
       "      <td>300</td>\n",
       "    </tr>\n",
       "    <tr>\n",
       "      <th>10097</th>\n",
       "      <td>2020-04-01</td>\n",
       "      <td>2.11</td>\n",
       "      <td>2.15</td>\n",
       "      <td>2.11</td>\n",
       "      <td>2.15</td>\n",
       "      <td>2.150000</td>\n",
       "      <td>600</td>\n",
       "    </tr>\n",
       "  </tbody>\n",
       "</table>\n",
       "<p>10098 rows × 7 columns</p>\n",
       "</div>"
      ],
      "text/plain": [
       "             Date  Open  High   Low  Close  Adj Close  Volume\n",
       "0      1980-03-17  0.00  4.05  3.85   3.85   3.213167   15000\n",
       "1      1980-03-18  0.00  4.00  3.80   3.80   3.171437   10200\n",
       "2      1980-03-19  0.00  4.05  3.85   3.85   3.213167   33500\n",
       "3      1980-03-20  0.00  4.00  3.80   3.80   3.171437    8700\n",
       "4      1980-03-21  0.00  3.95  3.75   3.75   3.129709   12700\n",
       "...           ...   ...   ...   ...    ...        ...     ...\n",
       "10093  2020-03-26  2.29  2.29  2.08   2.28   2.280000    1600\n",
       "10094  2020-03-27  2.25  2.25  2.21   2.25   2.250000     500\n",
       "10095  2020-03-30  2.25  2.25  2.13   2.13   2.130000     400\n",
       "10096  2020-03-31  2.11  2.11  2.11   2.11   2.110000     300\n",
       "10097  2020-04-01  2.11  2.15  2.11   2.15   2.150000     600\n",
       "\n",
       "[10098 rows x 7 columns]"
      ]
     },
     "execution_count": 4,
     "metadata": {},
     "output_type": "execute_result"
    }
   ],
   "source": [
    "data"
   ]
  },
  {
   "cell_type": "code",
   "execution_count": 12,
   "id": "643b744c",
   "metadata": {},
   "outputs": [
    {
     "data": {
      "image/png": "[encoded data removed]",
      "text/plain": [
       "<Figure size 640x480 with 1 Axes>"
      ]
     },
     "metadata": {},
     "output_type": "display_data"
    }
   ],
   "source": [
    "seq_data = data[data['Open'] != 0][['Open']].to_numpy()\n",
    "\n",
    "plt.plot(seq_data)\n",
    "plt.title('AAME Stock Open Price')  \n",
    "plt.xlabel('Time')\n",
    "plt.ylabel('Open Price')\n",
    "plt.show()"
   ]
  },
  {
   "cell_type": "code",
   "execution_count": 13,
   "id": "0466e3f6",
   "metadata": {},
   "outputs": [],
   "source": [
    "from sklearn.preprocessing import MinMaxScaler\n",
    "scaler = MinMaxScaler(feature_range=(0, 1))\n",
    "scaled_data = scaler.fit_transform(seq_data)"
   ]
  },
  {
   "cell_type": "code",
   "execution_count": 15,
   "id": "722f5c1d",
   "metadata": {},
   "outputs": [],
   "source": [
    "TEST_SIZE = 200\n",
    "train_data = scaled_data[:-TEST_SIZE]\n",
    "test_data = scaled_data[-TEST_SIZE]"
   ]
  },
  {
   "cell_type": "code",
   "execution_count": 16,
   "id": "50a15293",
   "metadata": {},
   "outputs": [],
   "source": [
    "def make_sample(data, window):\n",
    "    train = []\n",
    "    target = []\n",
    "    for i in range(len(data) - window):\n",
    "        train.append(data[i:i+window])\n",
    "        target.append(data[i+window])\n",
    "    return np.array(train), np.array(target)    \n",
    "\n",
    "X_train, y_train = make_sample(train_data, 30)"
   ]
  },
  {
   "cell_type": "code",
   "execution_count": null,
   "id": "33bcbd19",
   "metadata": {},
   "outputs": [],
   "source": []
  },
  {
   "cell_type": "code",
   "execution_count": null,
   "id": "abdd4fbd",
   "metadata": {},
   "outputs": [],
   "source": []
  },
  {
   "cell_type": "code",
   "execution_count": null,
   "id": "5293baa5",
   "metadata": {},
   "outputs": [],
   "source": []
  },
  {
   "cell_type": "code",
   "execution_count": null,
   "id": "7feee454",
   "metadata": {},
   "outputs": [],
   "source": []
  }
 ],
 "metadata": {
  "kernelspec": {
   "display_name": "tf310",
   "language": "python",
   "name": "python3"
  },
  "language_info": {
   "codemirror_mode": {
    "name": "ipython",
    "version": 3
   },
   "file_extension": ".py",
   "mimetype": "text/x-python",
   "name": "python",
   "nbconvert_exporter": "python",
   "pygments_lexer": "ipython3",
   "version": "3.10.16"
  }
 },
 "nbformat": 4,
 "nbformat_minor": 5
}
