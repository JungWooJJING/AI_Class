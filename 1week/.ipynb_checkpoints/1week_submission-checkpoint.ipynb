{
 "cells": [
  {
   "cell_type": "code",
   "execution_count": 16,
   "id": "ec2471fc-c25d-4030-bcae-999571e1a4a9",
   "metadata": {},
   "outputs": [],
   "source": [
    "from sklearn.datasets import load_iris\n",
    "import pandas as pd\n",
    "import numpy as np\n",
    "import matplotlib.pyplot as plt\n",
    "from sklearn.model_selection import train_test_split\n",
    "from sklearn.preprocessing import StandardScaler\n",
    "from sklearn.neighbors import KNeighborsClassifier\n",
    "import seaborn as sns\n",
    "\n",
    "#데이터 읽어오기\n",
    "df = pd.read_csv(\"C:/Users/syjwk/Study_AI/AI_Class/1week/iris.csv\", index_col=0)"
   ]
  },
  {
   "cell_type": "code",
   "execution_count": 17,
   "id": "efe723f7-b1fd-4a92-ac64-19a8b59307d7",
   "metadata": {},
   "outputs": [
    {
     "data": {
      "text/html": [
       "<div>\n",
       "<style scoped>\n",
       "    .dataframe tbody tr th:only-of-type {\n",
       "        vertical-align: middle;\n",
       "    }\n",
       "\n",
       "    .dataframe tbody tr th {\n",
       "        vertical-align: top;\n",
       "    }\n",
       "\n",
       "    .dataframe thead th {\n",
       "        text-align: right;\n",
       "    }\n",
       "</style>\n",
       "<table border=\"1\" class=\"dataframe\">\n",
       "  <thead>\n",
       "    <tr style=\"text-align: right;\">\n",
       "      <th></th>\n",
       "      <th>SepalWidth</th>\n",
       "      <th>PetalLength</th>\n",
       "      <th>PetalWidth</th>\n",
       "      <th>Name</th>\n",
       "    </tr>\n",
       "    <tr>\n",
       "      <th>SepalLength</th>\n",
       "      <th></th>\n",
       "      <th></th>\n",
       "      <th></th>\n",
       "      <th></th>\n",
       "    </tr>\n",
       "  </thead>\n",
       "  <tbody>\n",
       "    <tr>\n",
       "      <th>5.1</th>\n",
       "      <td>3.5</td>\n",
       "      <td>1.4</td>\n",
       "      <td>0.2</td>\n",
       "      <td>Iris-setosa</td>\n",
       "    </tr>\n",
       "    <tr>\n",
       "      <th>4.9</th>\n",
       "      <td>3.0</td>\n",
       "      <td>1.4</td>\n",
       "      <td>0.2</td>\n",
       "      <td>Iris-setosa</td>\n",
       "    </tr>\n",
       "    <tr>\n",
       "      <th>4.7</th>\n",
       "      <td>3.2</td>\n",
       "      <td>1.3</td>\n",
       "      <td>0.2</td>\n",
       "      <td>Iris-setosa</td>\n",
       "    </tr>\n",
       "    <tr>\n",
       "      <th>4.6</th>\n",
       "      <td>3.1</td>\n",
       "      <td>1.5</td>\n",
       "      <td>0.2</td>\n",
       "      <td>Iris-setosa</td>\n",
       "    </tr>\n",
       "    <tr>\n",
       "      <th>5.0</th>\n",
       "      <td>3.6</td>\n",
       "      <td>1.4</td>\n",
       "      <td>0.2</td>\n",
       "      <td>Iris-setosa</td>\n",
       "    </tr>\n",
       "    <tr>\n",
       "      <th>...</th>\n",
       "      <td>...</td>\n",
       "      <td>...</td>\n",
       "      <td>...</td>\n",
       "      <td>...</td>\n",
       "    </tr>\n",
       "    <tr>\n",
       "      <th>6.7</th>\n",
       "      <td>3.0</td>\n",
       "      <td>5.2</td>\n",
       "      <td>2.3</td>\n",
       "      <td>Iris-virginica</td>\n",
       "    </tr>\n",
       "    <tr>\n",
       "      <th>6.3</th>\n",
       "      <td>2.5</td>\n",
       "      <td>5.0</td>\n",
       "      <td>1.9</td>\n",
       "      <td>Iris-virginica</td>\n",
       "    </tr>\n",
       "    <tr>\n",
       "      <th>6.5</th>\n",
       "      <td>3.0</td>\n",
       "      <td>5.2</td>\n",
       "      <td>2.0</td>\n",
       "      <td>Iris-virginica</td>\n",
       "    </tr>\n",
       "    <tr>\n",
       "      <th>6.2</th>\n",
       "      <td>3.4</td>\n",
       "      <td>5.4</td>\n",
       "      <td>2.3</td>\n",
       "      <td>Iris-virginica</td>\n",
       "    </tr>\n",
       "    <tr>\n",
       "      <th>5.9</th>\n",
       "      <td>3.0</td>\n",
       "      <td>5.1</td>\n",
       "      <td>1.8</td>\n",
       "      <td>Iris-virginica</td>\n",
       "    </tr>\n",
       "  </tbody>\n",
       "</table>\n",
       "<p>150 rows × 4 columns</p>\n",
       "</div>"
      ],
      "text/plain": [
       "             SepalWidth  PetalLength  PetalWidth            Name\n",
       "SepalLength                                                     \n",
       "5.1                 3.5          1.4         0.2     Iris-setosa\n",
       "4.9                 3.0          1.4         0.2     Iris-setosa\n",
       "4.7                 3.2          1.3         0.2     Iris-setosa\n",
       "4.6                 3.1          1.5         0.2     Iris-setosa\n",
       "5.0                 3.6          1.4         0.2     Iris-setosa\n",
       "...                 ...          ...         ...             ...\n",
       "6.7                 3.0          5.2         2.3  Iris-virginica\n",
       "6.3                 2.5          5.0         1.9  Iris-virginica\n",
       "6.5                 3.0          5.2         2.0  Iris-virginica\n",
       "6.2                 3.4          5.4         2.3  Iris-virginica\n",
       "5.9                 3.0          5.1         1.8  Iris-virginica\n",
       "\n",
       "[150 rows x 4 columns]"
      ]
     },
     "execution_count": 17,
     "metadata": {},
     "output_type": "execute_result"
    }
   ],
   "source": [
    "df"
   ]
  },
  {
   "cell_type": "markdown",
   "id": "294bc0e1-5f36-4882-aa57-4bbd0fbbe241",
   "metadata": {},
   "source": [
    "### 데이터 확인"
   ]
  },
  {
   "cell_type": "code",
   "execution_count": 21,
   "id": "73dcf194-06d1-4efd-9f12-1e5310b40c89",
   "metadata": {},
   "outputs": [
    {
     "data": {
      "text/plain": [
       "Index(['SepalWidth', 'PetalLength', 'PetalWidth', 'Name'], dtype='object')"
      ]
     },
     "execution_count": 21,
     "metadata": {},
     "output_type": "execute_result"
    }
   ],
   "source": [
    "df.columns"
   ]
  },
  {
   "cell_type": "markdown",
   "id": "69ef0365-6dbc-4213-ab69-33ba79d3ce15",
   "metadata": {},
   "source": [
    "### 열 이름 출력 "
   ]
  },
  {
   "cell_type": "code",
   "execution_count": 24,
   "id": "9685f475-6507-469e-aa28-9468426ebdc7",
   "metadata": {},
   "outputs": [
    {
     "data": {
      "text/html": [
       "<div>\n",
       "<style scoped>\n",
       "    .dataframe tbody tr th:only-of-type {\n",
       "        vertical-align: middle;\n",
       "    }\n",
       "\n",
       "    .dataframe tbody tr th {\n",
       "        vertical-align: top;\n",
       "    }\n",
       "\n",
       "    .dataframe thead th {\n",
       "        text-align: right;\n",
       "    }\n",
       "</style>\n",
       "<table border=\"1\" class=\"dataframe\">\n",
       "  <thead>\n",
       "    <tr style=\"text-align: right;\">\n",
       "      <th></th>\n",
       "      <th>SepalWidth</th>\n",
       "      <th>PetalLength</th>\n",
       "      <th>PetalWidth</th>\n",
       "    </tr>\n",
       "    <tr>\n",
       "      <th>SepalLength</th>\n",
       "      <th></th>\n",
       "      <th></th>\n",
       "      <th></th>\n",
       "    </tr>\n",
       "  </thead>\n",
       "  <tbody>\n",
       "    <tr>\n",
       "      <th>5.1</th>\n",
       "      <td>3.5</td>\n",
       "      <td>1.4</td>\n",
       "      <td>0.2</td>\n",
       "    </tr>\n",
       "    <tr>\n",
       "      <th>4.9</th>\n",
       "      <td>3.0</td>\n",
       "      <td>1.4</td>\n",
       "      <td>0.2</td>\n",
       "    </tr>\n",
       "    <tr>\n",
       "      <th>4.7</th>\n",
       "      <td>3.2</td>\n",
       "      <td>1.3</td>\n",
       "      <td>0.2</td>\n",
       "    </tr>\n",
       "    <tr>\n",
       "      <th>4.6</th>\n",
       "      <td>3.1</td>\n",
       "      <td>1.5</td>\n",
       "      <td>0.2</td>\n",
       "    </tr>\n",
       "    <tr>\n",
       "      <th>5.0</th>\n",
       "      <td>3.6</td>\n",
       "      <td>1.4</td>\n",
       "      <td>0.2</td>\n",
       "    </tr>\n",
       "  </tbody>\n",
       "</table>\n",
       "</div>"
      ],
      "text/plain": [
       "             SepalWidth  PetalLength  PetalWidth\n",
       "SepalLength                                     \n",
       "5.1                 3.5          1.4         0.2\n",
       "4.9                 3.0          1.4         0.2\n",
       "4.7                 3.2          1.3         0.2\n",
       "4.6                 3.1          1.5         0.2\n",
       "5.0                 3.6          1.4         0.2"
      ]
     },
     "execution_count": 24,
     "metadata": {},
     "output_type": "execute_result"
    }
   ],
   "source": [
    "X=df.drop('Name',axis=1)\n",
    "\n",
    "X.head()"
   ]
  },
  {
   "cell_type": "markdown",
   "id": "0c7edf32-a243-4d0a-9431-c0ba434006ba",
   "metadata": {},
   "source": [
    "### Name을 제외한 나머지 특성들을 데이터프레임 X에 생성"
   ]
  },
  {
   "cell_type": "code",
   "execution_count": 27,
   "id": "af95ccfd-f673-406e-b345-b0c54c938f79",
   "metadata": {},
   "outputs": [
    {
     "data": {
      "text/plain": [
       "Name\n",
       "Iris-setosa        50\n",
       "Iris-versicolor    50\n",
       "Iris-virginica     50\n",
       "Name: count, dtype: int64"
      ]
     },
     "execution_count": 27,
     "metadata": {},
     "output_type": "execute_result"
    }
   ],
   "source": [
    "y=df['Name']\n",
    "\n",
    "y.value_counts()"
   ]
  },
  {
   "cell_type": "markdown",
   "id": "1ccd409c-f71e-4e4b-ba52-f1b1c20ba960",
   "metadata": {},
   "source": [
    "### 데이터프레임 y에 Name을 넣고 Name의 개수를 파악"
   ]
  },
  {
   "cell_type": "code",
   "execution_count": 30,
   "id": "c2c4d3e5-f84c-4aa6-a678-7c692f830fb8",
   "metadata": {},
   "outputs": [
    {
     "name": "stdout",
     "output_type": "stream",
     "text": [
      "==================================\n",
      " ACCURACY OF OTHER ML CLASSIFIERS\n",
      "==================================\n"
     ]
    }
   ],
   "source": [
    "print (\"==================================\")\n",
    "print (\" ACCURACY OF OTHER ML CLASSIFIERS\" )\n",
    "print (\"==================================\")"
   ]
  },
  {
   "cell_type": "code",
   "execution_count": 33,
   "id": "b215a4cc-7957-45f8-8932-4a0de72ddaac",
   "metadata": {},
   "outputs": [],
   "source": [
    "from sklearn.model_selection import train_test_split\n",
    "\n",
    "X_train, X_test, y_train, y_test = train_test_split(X, y,test_size=0.20,random_state=0)"
   ]
  },
  {
   "cell_type": "markdown",
   "id": "fab59303-63ca-44f0-9740-6abff2f9436d",
   "metadata": {},
   "source": [
    "데이터를 훈련과 테스트로 나눈다. <p>\n",
    "X : 종류를 제외한 데이터, Y : 종류 데이터 <p>\n",
    "test_size : 80%가 훈련 데이터이고 20%가 테스트 데이터로 쓰임 <p>\n",
    "random_state : 데이터 분할을 랜덤하게 한다. "
   ]
  },
  {
   "cell_type": "markdown",
   "id": "f9fc756c-a9d2-48e9-96d1-be8ec0e758dc",
   "metadata": {},
   "source": [
    "# DT\n",
    "결정 트리(Decision Tree)는 분류와 회귀 모두 가능한 지도 학습 모델 중 하나로 의사결정을 스무고개 하듯이 예, 아니오를 이어가며 학습을 한다. <p>\n",
    "장점으로는 분석 결과를 해석하기 쉬우며 정확한 예측이 가능하다. 또한 직관성과 가시성이 높아서 결정에 대한 이류를 설명하기 용이하다는 특징을 가지고 있다. <p>\n",
    "하지만 과적합 문제가 발생할 수 있기 때문에 데이터 분포가 일정하지 않거나 노이즈가 포함된 경우 정확한 예측이 힘들다.\n",
    "# RF\n",
    "랜덤 포레스트(Random Forest)는 작은 트리를 이용하는 방법을 사용해 특성의 상대적 중요도를 측정하기 쉽다는 특징이 있다. 특성 중요도는 결정 트리보다 신뢰할 수 있다. <p>\n",
    "장점은 여러 개의 결정 트리를 결합하여 예측을 수행하므로 개별 트리보다 성능이 뛰어나고 과적합을 방지할 수 있다. <p>\n",
    "단점으로는 많은 수의 트리가 필요하기 때문에 각 트리의 결과를 종합해야 하므로 예측 시간이 오래 걸릴 수도 있다. \n",
    "\n",
    "# SVM\n",
    "서포트 벡터 머신(Support Vector Machine)는 데이터를 고차원 특징 공간으로 매핑하여 데이터 포인트들은 가장 잘 구분할 수 있는 경계를 찾는 방식으로 작동한다. <p>\n",
    "장점으로는 결정 경계를 찾는 과정이 매우 효율적이고 고차원 데이터(텍스트 분류, 이미지 분류)에 효과적이다. <p>\n",
    "하지만 큰 데이터셋에 대해서는 계산 비용과 메모리 소모가 문제가 될 수 있다. <p>\n",
    "\n",
    "# LR\n",
    "로지스틱 회귀(Logistic Regression)은 주로 이진 분류 문제를 해결하는데 사용되는 통계적 모델이다. 이름에 회귀가 포함되어 있지만 실제로는 분류 문제에 널리 사용된다. <p>\n",
    "장점으로는 모델이 직관적이고 계산이 간단해서 해석하기 쉽다. 그리고 학습과 예측이 빠르다. <p>\n",
    "복잡한 데이터셋에서는 과적합의 위험이 있을 수도 있고 상호작용이나 비선형 관계를 처리하지 못한다는 특징이 있다. "
   ]
  },
  {
   "cell_type": "code",
   "execution_count": 36,
   "id": "bcd4d714-ff8d-4fa4-abd6-90ba780bb2b7",
   "metadata": {},
   "outputs": [],
   "source": [
    "from sklearn.linear_model import LogisticRegression\n",
    "from sklearn.svm import SVC\n",
    "from sklearn.neural_network import MLPClassifier\n",
    "from sklearn.tree import DecisionTreeClassifier\n",
    "from sklearn.metrics import accuracy_score\n",
    "from sklearn.metrics import confusion_matrix"
   ]
  },
  {
   "cell_type": "markdown",
   "id": "8a23eaab-ffa8-431d-b34a-57a8cbb99ada",
   "metadata": {},
   "source": [
    "### DT"
   ]
  },
  {
   "cell_type": "code",
   "execution_count": 39,
   "id": "6eb7800c-c5b6-4983-8b01-79f6b772921d",
   "metadata": {},
   "outputs": [
    {
     "name": "stdout",
     "output_type": "stream",
     "text": [
      "\n",
      "--- Decision Tree Classifier ---\n",
      "1.0\n",
      "[[11  0  0]\n",
      " [ 0 13  0]\n",
      " [ 0  0  6]]\n"
     ]
    }
   ],
   "source": [
    "# Build a decision tree classifier and predict\n",
    "\n",
    "clf_dt = DecisionTreeClassifier(random_state=0)\n",
    "clf_dt.fit(X_train, y_train)\n",
    "\n",
    "pred_dt = clf_dt.predict(X_test)\n",
    "\n",
    "print (\"\\n--- Decision Tree Classifier ---\")\n",
    "print (accuracy_score(y_test, pred_dt))\n",
    "print (confusion_matrix(y_test, pred_dt))"
   ]
  },
  {
   "cell_type": "markdown",
   "id": "91617a8c-d5e6-4430-831d-9f6242b394ae",
   "metadata": {},
   "source": [
    "정확도 1.0 -> 100% <p>\n",
    "첫 번째 클래스 11개 샘플을 정확하게 예측 <p>\n",
    "두 번째 클래스 13개 샘플을 정확하게 예측 <p>\n",
    "세 번째 클래스 6개 샘플을 정확하게 예측"
   ]
  },
  {
   "cell_type": "markdown",
   "id": "e5e39cd4-bdc5-467d-8e3a-7bb70c2e7f07",
   "metadata": {},
   "source": [
    "### RF"
   ]
  },
  {
   "cell_type": "code",
   "execution_count": 55,
   "id": "c0ee0446-d8a5-4eaa-97c6-5a5e2148a8b3",
   "metadata": {},
   "outputs": [
    {
     "name": "stdout",
     "output_type": "stream",
     "text": [
      "\n",
      "--- Random Forest ---\n",
      "1.0\n",
      "[[11  0  0]\n",
      " [ 0 13  0]\n",
      " [ 0  0  6]]\n"
     ]
    }
   ],
   "source": [
    "from sklearn.ensemble import RandomForestClassifier\n",
    "from sklearn.metrics import accuracy_score\n",
    "import pandas as pd\n",
    "import warnings\n",
    "warnings.filterwarnings('ignore')\n",
    "\n",
    "print (\"\\n--- Random Forest ---\")\n",
    "rf_clf = RandomForestClassifier(random_state=0)\n",
    "rf_clf.fit(X_train, y_train)\n",
    "pred = rf_clf.predict(X_test)\n",
    "print(accuracy_score(y_test,pred))\n",
    "print (confusion_matrix(y_test, pred))"
   ]
  },
  {
   "cell_type": "markdown",
   "id": "5e20b736-980c-4d09-8d71-7a636fb7e885",
   "metadata": {},
   "source": [
    "정확도 1.0 -> 100% <p>\n",
    "첫 번째 클래스 11개 샘플을 정확하게 예측 <p>\n",
    "두 번째 클래스 13개 샘플을 정확하게 예측 <p>\n",
    "세 번째 클래스 6개 샘플을 정확하게 예측"
   ]
  },
  {
   "cell_type": "markdown",
   "id": "eeba6dec-7e70-409f-9d79-55260219d0d4",
   "metadata": {},
   "source": [
    "### SVM"
   ]
  },
  {
   "cell_type": "code",
   "execution_count": 47,
   "id": "9a0e665d-bbc9-4623-b803-3ada1678ba5f",
   "metadata": {},
   "outputs": [
    {
     "name": "stdout",
     "output_type": "stream",
     "text": [
      "\n",
      "--- SVM Classifier ---\n",
      "1.0\n",
      "[[11  0  0]\n",
      " [ 0 13  0]\n",
      " [ 0  0  6]]\n"
     ]
    }
   ],
   "source": [
    "from sklearn.svm import SVC\n",
    "\n",
    "clf_svm = SVC(random_state=0)\n",
    "clf_svm.fit(X_train, y_train)\n",
    "\n",
    "pred_svm = clf_svm.predict(X_test)\n",
    "\n",
    "print(\"\\n--- SVM Classifier ---\")\n",
    "print(accuracy_score(y_test, pred_svm))\n",
    "print(confusion_matrix(y_test, pred_svm))"
   ]
  },
  {
   "cell_type": "markdown",
   "id": "d37d33b4-3806-43e4-ba9d-b07b9205c53e",
   "metadata": {},
   "source": [
    "정확도 1.0 -> 100% <p>\n",
    "첫 번째 클래스 11개 샘플을 정확하게 예측 <p>\n",
    "두 번째 클래스 13개 샘플을 정확하게 예측 <p>\n",
    "세 번째 클래스 6개 샘플을 정확하게 예측"
   ]
  },
  {
   "cell_type": "markdown",
   "id": "027e6500-4747-46f1-8c75-41f59eda19ee",
   "metadata": {},
   "source": [
    "### LR"
   ]
  },
  {
   "cell_type": "code",
   "execution_count": 51,
   "id": "ca5223c2-45d1-4848-9133-373d8239bec9",
   "metadata": {},
   "outputs": [
    {
     "name": "stdout",
     "output_type": "stream",
     "text": [
      "\n",
      "--- Logistic Regression Classifier ---\n",
      "1.0\n",
      "[[11  0  0]\n",
      " [ 0 13  0]\n",
      " [ 0  0  6]]\n"
     ]
    }
   ],
   "source": [
    "clf_lr = LogisticRegression(random_state=0)\n",
    "clf_lr.fit(X_train, y_train)\n",
    "\n",
    "pred_lr = clf_lr.predict(X_test)\n",
    "\n",
    "print (\"\\n--- Logistic Regression Classifier ---\")\n",
    "print (accuracy_score(y_test, pred_lr))\n",
    "print (confusion_matrix(y_test, pred_lr))"
   ]
  },
  {
   "cell_type": "markdown",
   "id": "3ac4cfc6-5375-4d5f-9bdd-de012ee250d4",
   "metadata": {},
   "source": [
    "정확도 1.0 -> 100% <p>\n",
    "첫 번째 클래스 11개 샘플을 정확하게 예측 <p>\n",
    "두 번째 클래스 13개 샘플을 정확하게 예측 <p>\n",
    "세 번째 클래스 6개 샘플을 정확하게 예측"
   ]
  },
  {
   "cell_type": "code",
   "execution_count": null,
   "id": "8a2bf046-8681-4bed-bfff-2e6a057e745f",
   "metadata": {},
   "outputs": [],
   "source": []
  },
  {
   "cell_type": "code",
   "execution_count": null,
   "id": "92092385-da20-434d-8d52-2ad2fba9ec79",
   "metadata": {},
   "outputs": [],
   "source": []
  }
 ],
 "metadata": {
  "kernelspec": {
   "display_name": "Python [conda env:base] *",
   "language": "python",
   "name": "conda-base-py"
  },
  "language_info": {
   "codemirror_mode": {
    "name": "ipython",
    "version": 3
   },
   "file_extension": ".py",
   "mimetype": "text/x-python",
   "name": "python",
   "nbconvert_exporter": "python",
   "pygments_lexer": "ipython3",
   "version": "3.12.7"
  }
 },
 "nbformat": 4,
 "nbformat_minor": 5
}
