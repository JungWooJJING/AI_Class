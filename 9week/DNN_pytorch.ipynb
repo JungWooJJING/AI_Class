{
 "cells": [
  {
   "cell_type": "code",
   "execution_count": 29,
   "id": "63352e7a",
   "metadata": {},
   "outputs": [],
   "source": [
    "import torch\n",
    "import torch.nn as nn\n",
    "import torch.optim as optim\n",
    "from torch.utils.data import TensorDataset, DataLoader\n",
    "from sklearn import datasets\n",
    "from sklearn.model_selection import train_test_split\n",
    "from sklearn.preprocessing import StandardScaler\n",
    "import matplotlib.pyplot as plt"
   ]
  },
  {
   "cell_type": "code",
   "execution_count": null,
   "id": "57675397",
   "metadata": {},
   "outputs": [],
   "source": [
    "# 1. 데이터 로딩 및 전처리\n",
    "digits = datasets.load_digits()\n",
    "X = digits.images.reshape((len(digits.images), -1))\n",
    "y = digits.target"
   ]
  },
  {
   "cell_type": "code",
   "execution_count": 31,
   "id": "000b0bd7",
   "metadata": {},
   "outputs": [
    {
     "name": "stdout",
     "output_type": "stream",
     "text": [
      "(1437, 64) (1437,)\n",
      "(360, 64) (360,)\n"
     ]
    }
   ],
   "source": [
    "X_train, X_test, y_train, y_test = train_test_split(X, y, test_size=0.2, random_state=0)\n",
    "\n",
    "print(X_train.shape, y_train.shape)\n",
    "print(X_test.shape, y_test.shape)"
   ]
  },
  {
   "cell_type": "code",
   "execution_count": null,
   "id": "ac7f779f",
   "metadata": {},
   "outputs": [],
   "source": [
    "# 정규화\n",
    "scaler = StandardScaler()\n",
    "X_train = scaler.fit_transform(X_train)\n",
    "X_test = scaler.transform(X_test)"
   ]
  },
  {
   "cell_type": "code",
   "execution_count": null,
   "id": "71616d51",
   "metadata": {},
   "outputs": [],
   "source": [
    "# Tensor 변환\n",
    "X_train_tensor = torch.tensor(X_train, dtype=torch.float32)\n",
    "y_train_tensor = torch.tensor(y_train, dtype=torch.long)\n",
    "X_test_tensor = torch.tensor(X_test, dtype=torch.float32)\n",
    "y_test_tensor = torch.tensor(y_test, dtype=torch.long)"
   ]
  },
  {
   "cell_type": "code",
   "execution_count": null,
   "id": "f8171bf3",
   "metadata": {},
   "outputs": [],
   "source": [
    "# DataLoader 구성\n",
    "train_dataset = TensorDataset(X_train_tensor, y_train_tensor)\n",
    "test_dataset = TensorDataset(X_test_tensor, y_test_tensor)\n",
    "train_dataloader = DataLoader(train_dataset, batch_size=64, shuffle=True)\n",
    "test_dataloader = DataLoader(test_dataset, batch_size=64, shuffle=False)"
   ]
  },
  {
   "cell_type": "code",
   "execution_count": null,
   "id": "bc47322b",
   "metadata": {},
   "outputs": [],
   "source": [
    "# 모델 정의 (다중 분류)\n",
    "class DigitsMultiClassDNN(nn.Module):\n",
    "    def __init__(self):\n",
    "        super(DigitsMultiClassDNN, self).__init__()\n",
    "        self.fc1 = nn.Linear(64, 64)\n",
    "        self.fc2 = nn.Linear(64, 32)\n",
    "        self.fc3 = nn.Linear(32, 10)  # 10 클래스 분류\n",
    "    \n",
    "    def forward(self, x):\n",
    "        x = torch.relu(self.fc1(x))\n",
    "        x = torch.relu(self.fc2(x))\n",
    "        x = self.fc3(x)  # CrossEntropyLoss는 softmax 없이 logits 입력 받음\n",
    "        return x"
   ]
  },
  {
   "cell_type": "code",
   "execution_count": 36,
   "id": "6fbde46b",
   "metadata": {},
   "outputs": [],
   "source": [
    "model = DigitsMultiClassDNN()\n",
    "criterion = nn.CrossEntropyLoss()  \n",
    "optimizer = optim.Adam(model.parameters(), lr=0.001)"
   ]
  },
  {
   "cell_type": "code",
   "execution_count": 37,
   "id": "7b61efee",
   "metadata": {},
   "outputs": [
    {
     "name": "stdout",
     "output_type": "stream",
     "text": [
      "Epoch 1/20, Loss: 2.1741, Accuracy: 58.61%\n",
      "Epoch 2/20, Loss: 1.7836, Accuracy: 67.78%\n",
      "Epoch 3/20, Loss: 1.1934, Accuracy: 69.72%\n",
      "Epoch 4/20, Loss: 0.7252, Accuracy: 85.28%\n",
      "Epoch 5/20, Loss: 0.4716, Accuracy: 91.11%\n",
      "Epoch 6/20, Loss: 0.3288, Accuracy: 93.33%\n",
      "Epoch 7/20, Loss: 0.2348, Accuracy: 94.72%\n",
      "Epoch 8/20, Loss: 0.1809, Accuracy: 94.72%\n",
      "Epoch 9/20, Loss: 0.1472, Accuracy: 95.56%\n",
      "Epoch 10/20, Loss: 0.1181, Accuracy: 95.83%\n",
      "Epoch 11/20, Loss: 0.1018, Accuracy: 96.11%\n",
      "Epoch 12/20, Loss: 0.0842, Accuracy: 96.39%\n",
      "Epoch 13/20, Loss: 0.0739, Accuracy: 96.67%\n",
      "Epoch 14/20, Loss: 0.0641, Accuracy: 96.94%\n",
      "Epoch 15/20, Loss: 0.0549, Accuracy: 96.94%\n",
      "Epoch 16/20, Loss: 0.0479, Accuracy: 97.22%\n",
      "Epoch 17/20, Loss: 0.0424, Accuracy: 97.22%\n",
      "Epoch 18/20, Loss: 0.0372, Accuracy: 97.22%\n",
      "Epoch 19/20, Loss: 0.0332, Accuracy: 96.94%\n",
      "Epoch 20/20, Loss: 0.0296, Accuracy: 97.50%\n"
     ]
    }
   ],
   "source": [
    "train_losses = []\n",
    "test_accuracies = []\n",
    "num_epochs = 20\n",
    "\n",
    "for epoch in range(num_epochs):\n",
    "    model.train()\n",
    "    running_loss = 0.0\n",
    "\n",
    "    for inputs, labels in train_dataloader:\n",
    "        optimizer.zero_grad()\n",
    "        outputs = model(inputs)\n",
    "        loss = criterion(outputs, labels)\n",
    "        loss.backward()\n",
    "        optimizer.step()\n",
    "        running_loss += loss.item()\n",
    "\n",
    "    train_losses.append(running_loss / len(train_dataloader))\n",
    "\n",
    "    # 테스트 정확도 평가\n",
    "    model.eval()\n",
    "    correct = 0\n",
    "    total = 0\n",
    "    with torch.no_grad():\n",
    "        for inputs, labels in test_dataloader:\n",
    "            outputs = model(inputs)\n",
    "            _, predicted = torch.max(outputs.data, 1)\n",
    "            total += labels.size(0)\n",
    "            correct += (predicted == labels).sum().item()\n",
    "\n",
    "    accuracy = 100 * correct / total\n",
    "    test_accuracies.append(accuracy)\n",
    "    print(f\"Epoch {epoch + 1}/{num_epochs}, Loss: {train_losses[-1]:.4f}, Accuracy: {accuracy:.2f}%\")"
   ]
  },
  {
   "cell_type": "code",
   "execution_count": 40,
   "id": "c5305abe",
   "metadata": {},
   "outputs": [
    {
     "name": "stdout",
     "output_type": "stream",
     "text": [
      "=== 모델 평가 결과 ===\n",
      "Confusion Matrix:\n",
      "[[27  0  0  0  0  0  0  0  0  0]\n",
      " [ 0 34  0  0  0  0  1  0  0  0]\n",
      " [ 0  0 35  1  0  0  0  0  0  0]\n",
      " [ 0  0  0 28  0  0  0  0  0  1]\n",
      " [ 0  0  0  0 29  0  0  1  0  0]\n",
      " [ 0  0  0  0  0 39  0  0  0  1]\n",
      " [ 0  1  0  0  0  0 43  0  0  0]\n",
      " [ 0  0  0  0  0  0  0 39  0  0]\n",
      " [ 0  1  0  0  0  0  0  0 38  0]\n",
      " [ 0  0  0  0  0  1  0  1  0 39]]\n",
      "F1 Score      : 0.9751\n",
      "Precision     : 0.9754\n",
      "Recall        : 0.9750\n",
      "Specificity   : 0.9972\n"
     ]
    }
   ],
   "source": [
    "import numpy as np\n",
    "from sklearn.metrics import confusion_matrix, f1_score, precision_score, recall_score\n",
    "\n",
    "# 모델 평가 모드로 전환 (Dropout, BatchNorm 비활성화)\n",
    "model.eval()\n",
    "\n",
    "# 예측 및 라벨 저장용 리스트\n",
    "all_labels = []\n",
    "all_predictions = []\n",
    "\n",
    "# 평가 시에는 그래디언트 비활성화 → 속도 & 메모리 최적화\n",
    "with torch.no_grad():\n",
    "    for inputs, labels in test_dataloader:\n",
    "        outputs = model(inputs)  # 순전파\n",
    "        _, predicted = torch.max(outputs.data, 1)  # 가장 높은 확률의 클래스 선택\n",
    "\n",
    "        all_labels.extend(labels.cpu().numpy())\n",
    "        all_predictions.extend(predicted.cpu().numpy())\n",
    "\n",
    "# 리스트를 numpy 배열로 변환\n",
    "all_labels = np.array(all_labels)\n",
    "all_predictions = np.array(all_predictions)\n",
    "\n",
    "# 혼동 행렬 및 기본 평가 지표 계산\n",
    "conf_matrix = confusion_matrix(all_labels, all_predictions)\n",
    "f1 = f1_score(all_labels, all_predictions, average='weighted')\n",
    "precision = precision_score(all_labels, all_predictions, average='weighted')\n",
    "recall = recall_score(all_labels, all_predictions, average='weighted')\n",
    "\n",
    "# 클래스별 Specificity 계산\n",
    "specificity = []\n",
    "with np.errstate(divide='ignore', invalid='ignore'):  # 0으로 나누는 경우 방지\n",
    "    for i in range(conf_matrix.shape[0]):\n",
    "        tn = conf_matrix.sum() - (conf_matrix[i, :].sum() + conf_matrix[:, i].sum() - conf_matrix[i, i])\n",
    "        fp = conf_matrix[:, i].sum() - conf_matrix[i, i]\n",
    "        spec = tn / (tn + fp) if (tn + fp) > 0 else 0.0\n",
    "        specificity.append(spec)\n",
    "\n",
    "# 결과 출력\n",
    "print(\"=== 모델 평가 결과 ===\")\n",
    "print(f\"Confusion Matrix:\\n{conf_matrix}\")\n",
    "print(f\"F1 Score      : {f1:.4f}\")\n",
    "print(f\"Precision     : {precision:.4f}\")\n",
    "print(f\"Recall        : {recall:.4f}\")\n",
    "print(f\"Specificity   : {np.mean(specificity):.4f}\")\n"
   ]
  },
  {
   "cell_type": "code",
   "execution_count": 39,
   "id": "6e2e68c5",
   "metadata": {},
   "outputs": [
    {
     "data": {
      "image/png": "[encoded data removed]",
      "text/plain": [
       "<Figure size 1200x500 with 2 Axes>"
      ]
     },
     "metadata": {},
     "output_type": "display_data"
    }
   ],
   "source": [
    "# Plot the loss and accuracy\n",
    "plt.figure(figsize=(12, 5))\n",
    "\n",
    "# Plot loss\n",
    "plt.subplot(1, 2, 1)\n",
    "plt.plot(train_losses, label='Training Loss')\n",
    "plt.xlabel('Epoch')\n",
    "plt.ylabel('Loss')\n",
    "plt.title('Training Loss Over Epochs')\n",
    "plt.legend()\n",
    "\n",
    "# Plot accuracy\n",
    "plt.subplot(1, 2, 2)\n",
    "plt.plot(test_accuracies, label='Test Accuracy')\n",
    "plt.xlabel('Epoch')\n",
    "plt.ylabel('Accuracy (%)')\n",
    "plt.title('Test Accuracy Over Epochs')\n",
    "plt.legend()\n",
    "\n",
    "plt.show()"
   ]
  }
 ],
 "metadata": {
  "kernelspec": {
   "display_name": "base",
   "language": "python",
   "name": "python3"
  },
  "language_info": {
   "codemirror_mode": {
    "name": "ipython",
    "version": 3
   },
   "file_extension": ".py",
   "mimetype": "text/x-python",
   "name": "python",
   "nbconvert_exporter": "python",
   "pygments_lexer": "ipython3",
   "version": "3.12.7"
  }
 },
 "nbformat": 4,
 "nbformat_minor": 5
}
